{
 "cells": [
  {
   "cell_type": "code",
   "execution_count": null,
   "id": "eed22895",
   "metadata": {},
   "outputs": [],
   "source": [
    "#Import libraries\n",
    "import matplotlib\n",
    "import matplotlib.pyplot as plt\n",
    "from netCDF4 import Dataset as NCF\n",
    "import numpy as np\n",
    "import os\n",
    "import requests\n",
    "import sys\n",
    "import tarfile"
   ]
  },
  {
   "cell_type": "code",
   "execution_count": null,
   "id": "1f4b70a1",
   "metadata": {
    "lines_to_next_cell": 1
   },
   "outputs": [],
   "source": [
    "# datapath\n",
    "dataDir = \"./Data/\""
   ]
  },
  {
   "cell_type": "code",
   "execution_count": null,
   "id": "c1c3c2d7",
   "metadata": {
    "lines_to_next_cell": 1
   },
   "outputs": [],
   "source": [
    "# Create definitions\n",
    "def read_ion_data(nc): #reads in ionPrf\n",
    "    alt = nc.variables['MSL_alt'][:] #altitude, km\n",
    "    ed = nc.variables['ELEC_dens'][:] #plasma density, n\n",
    "    \n",
    "    return alt, ed  #altitude, density"
   ]
  },
  {
   "cell_type": "code",
   "execution_count": null,
   "id": "b4aec058",
   "metadata": {},
   "outputs": [],
   "source": [
    "fName = \"ionPrf_C2E1.2022.010.19.32.G14_0001.0001_nc\"\n",
    "ionFile = dataDir + fName"
   ]
  },
  {
   "cell_type": "code",
   "execution_count": null,
   "id": "6b446214",
   "metadata": {},
   "outputs": [],
   "source": [
    "# Filename\n",
    "fileType = fName[0:6]\n",
    "const = fName[6:7]\n",
    "fmNum = fName[7:11]\n",
    "fYear = fName[12:16]\n",
    "fDoy = fName[17:20]\n",
    "fMin = fName[21:23]\n",
    "fSec = fName[24:26]\n",
    "timeStr = fName[21:26]\n",
    "leo = fName[27:30]"
   ]
  },
  {
   "cell_type": "code",
   "execution_count": null,
   "id": "f4527fd3",
   "metadata": {},
   "outputs": [],
   "source": [
    "# Read netCDF\n",
    "ncfIon = NCF(ionFile,'r')\n",
    "ionAlt, ionEd = read_ion_data(ncfIon)\n",
    "ncfIon.close()"
   ]
  },
  {
   "cell_type": "code",
   "execution_count": null,
   "id": "c9bee21b",
   "metadata": {},
   "outputs": [],
   "source": [
    "# Plot EDP profile\n",
    "figOutDir = \"./Graphs/\"\n",
    "outFile = figOutDir + fileType + \".\" + fmNum +\".\"+ leo +\".\" + fYear + \".\" + fDoy + \".\" + fMin +\".\"+ fSec +\".png\""
   ]
  },
  {
   "cell_type": "code",
   "execution_count": null,
   "id": "f2f44f6d",
   "metadata": {},
   "outputs": [],
   "source": [
    "titleStr = ('COSMIC-2 EDP' + \"    \" + fileType + \".\" + fmNum +\".\"+ leo +\".\" + fYear + \".\" + fDoy + \".\" + fMin +\".\"+ fSec)"
   ]
  },
  {
   "cell_type": "code",
   "execution_count": null,
   "id": "9f7879a7",
   "metadata": {},
   "outputs": [],
   "source": [
    "fig1 = plt.figure(1, figsize=(9, 6))\n",
    "grid1 = plt.GridSpec(4, 6, hspace=0.2, wspace=0.5)\n",
    "ax1  = fig1.add_subplot(grid1[:, :])\n",
    "ax1.plot(ionEd,ionAlt,linestyle='-',color='red',linewidth=2,label=\"COSMIC-2 ionPrf\")\n",
    "ax1.set_xlabel(\"Electron Density (el/cm^3)\",fontsize = 14)\n",
    "ax1.set_ylabel(\"Height (km)\",fontsize = 14)\n",
    "ax1.set_ylim([50,600]) #y-axis limits\n",
    "#ax1.set_xlim([-100000,1000000]) #x-axis limits\n",
    "ax1.tick_params(axis='both', which='major', labelsize=12) # tick labels\n",
    "ax1.legend(loc=1, borderaxespad=0.,fontsize = 9) # legend\n",
    "plt.title(titleStr,fontsize = 14) # plot title"
   ]
  },
  {
   "cell_type": "code",
   "execution_count": null,
   "id": "4a57c20b",
   "metadata": {},
   "outputs": [],
   "source": [
    "fig1.savefig(outFile, bbox_inches='tight',dpi=300) #image quality (dpi)\n",
    "plt.close(fig1)"
   ]
  }
 ],
 "metadata": {
  "jupytext": {
   "cell_metadata_filter": "-all",
   "main_language": "python",
   "notebook_metadata_filter": "-all"
  },
  "kernelspec": {
   "display_name": "Python 3",
   "language": "python",
   "name": "python3"
  },
  "language_info": {
   "codemirror_mode": {
    "name": "ipython",
    "version": 3
   },
   "file_extension": ".py",
   "mimetype": "text/x-python",
   "name": "python",
   "nbconvert_exporter": "python",
   "pygments_lexer": "ipython3",
   "version": "3.8.3"
  }
 },
 "nbformat": 4,
 "nbformat_minor": 5
}
