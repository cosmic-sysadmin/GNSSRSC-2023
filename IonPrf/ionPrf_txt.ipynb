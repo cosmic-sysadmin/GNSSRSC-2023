{
 "cells": [
  {
   "cell_type": "code",
   "execution_count": null,
   "id": "c675f00b",
   "metadata": {},
   "outputs": [],
   "source": [
    "import netCDF4\n",
    "from netCDF4 import Dataset as NCF\n",
    "import numpy as np"
   ]
  },
  {
   "cell_type": "code",
   "execution_count": null,
   "id": "a8f97443",
   "metadata": {},
   "outputs": [],
   "source": [
    "dataDir = \"./Data/\""
   ]
  },
  {
   "cell_type": "code",
   "execution_count": null,
   "id": "e53c2412",
   "metadata": {},
   "outputs": [],
   "source": [
    "fName = \"ionPrf_C2E5.2022.010.00.42.G01_0001.0001_nc\"\n",
    "ionFile = dataDir + fName"
   ]
  },
  {
   "cell_type": "code",
   "execution_count": null,
   "id": "497c6c4d",
   "metadata": {},
   "outputs": [],
   "source": [
    "# Filename\n",
    "fileType = fName[0:6]\n",
    "const = fName[6:7]\n",
    "fmNum = fName[7:11]\n",
    "fYear = fName[12:16]\n",
    "fDoy = fName[17:20]\n",
    "fMin = fName[21:23]\n",
    "fSec = fName[24:26]\n",
    "timeStr = fName[21:26]\n",
    "leo = fName[32:35]"
   ]
  },
  {
   "cell_type": "code",
   "execution_count": null,
   "id": "84d8577c",
   "metadata": {},
   "outputs": [],
   "source": [
    "f = NCF(ionFile,'r')"
   ]
  },
  {
   "cell_type": "code",
   "execution_count": null,
   "id": "4802661a",
   "metadata": {},
   "outputs": [],
   "source": [
    "for d in f.dimensions.items():\n",
    "    print(d)\n",
    "input"
   ]
  },
  {
   "cell_type": "code",
   "execution_count": null,
   "id": "4ca1fbfe",
   "metadata": {},
   "outputs": [],
   "source": [
    "print(f.variables.keys()) # get all variable names"
   ]
  },
  {
   "cell_type": "code",
   "execution_count": null,
   "id": "36e134b8",
   "metadata": {
    "lines_to_next_cell": 2
   },
   "outputs": [],
   "source": [
    "d = (f.__dict__['shortlen'])"
   ]
  },
  {
   "cell_type": "code",
   "execution_count": null,
   "id": "00e1da67",
   "metadata": {},
   "outputs": [],
   "source": [
    "lm=int(1)"
   ]
  },
  {
   "cell_type": "code",
   "execution_count": null,
   "id": "bc5cb8dc",
   "metadata": {},
   "outputs": [],
   "source": [
    "alt = f.variables['MSL_alt'][:] #altitude, km\n",
    "ed = f.variables['ELEC_dens'][:] #plasma density, n\n",
    "lat = f.variables['GEO_lat'][:] #latitude\n",
    "lon = f.variables['GEO_lon'][:] #longitude"
   ]
  },
  {
   "cell_type": "code",
   "execution_count": null,
   "id": "e01b5d55",
   "metadata": {},
   "outputs": [],
   "source": [
    "sz = int(d)"
   ]
  },
  {
   "cell_type": "code",
   "execution_count": null,
   "id": "75989fe9",
   "metadata": {},
   "outputs": [],
   "source": [
    "scale=int(sz-20)"
   ]
  },
  {
   "cell_type": "code",
   "execution_count": null,
   "id": "3817ef8c",
   "metadata": {},
   "outputs": [],
   "source": [
    "f.close()"
   ]
  },
  {
   "cell_type": "code",
   "execution_count": null,
   "id": "f2b5b8ee",
   "metadata": {},
   "outputs": [],
   "source": [
    "netxt = dataDir + fileType + \".\" + fmNum +\".\"+ leo +\".\" + fYear + \".\" + fDoy + \".\" + fMin +\".\"+ fSec +\".txt\""
   ]
  },
  {
   "cell_type": "code",
   "execution_count": null,
   "id": "128726de",
   "metadata": {},
   "outputs": [],
   "source": [
    "f1 = open(netxt, 'w')\n",
    "for i in range(lm,scale):\n",
    "    print((alt[i] ), (\" \"), round((ed[i] ),3), (\" \"), round((lat[i] ),3), (\" \"), round((lon[i] ),3), file=f1)\n",
    "f1.close()"
   ]
  },
  {
   "cell_type": "code",
   "execution_count": null,
   "id": "111c39c5",
   "metadata": {},
   "outputs": [],
   "source": []
  }
 ],
 "metadata": {
  "jupytext": {
   "cell_metadata_filter": "-all",
   "main_language": "python",
   "notebook_metadata_filter": "-all"
  },
  "kernelspec": {
   "display_name": "Python 3",
   "language": "python",
   "name": "python3"
  },
  "language_info": {
   "codemirror_mode": {
    "name": "ipython",
    "version": 3
   },
   "file_extension": ".py",
   "mimetype": "text/x-python",
   "name": "python",
   "nbconvert_exporter": "python",
   "pygments_lexer": "ipython3",
   "version": "3.8.3"
  }
 },
 "nbformat": 4,
 "nbformat_minor": 5
}
