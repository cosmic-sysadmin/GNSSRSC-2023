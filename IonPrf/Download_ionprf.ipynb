{
 "cells": [
  {
   "cell_type": "markdown",
   "id": "4dba190b",
   "metadata": {},
   "source": [
    "Download GNSS data form data.cosmic.ucar.edu"
   ]
  },
  {
   "cell_type": "code",
   "execution_count": null,
   "id": "282f6713",
   "metadata": {},
   "outputs": [],
   "source": [
    "import pandas as pd\n",
    "import numpy as np\n",
    "import sys\n",
    "import requests\n",
    "import tarfile\n",
    "import os\n",
    "import shutil"
   ]
  },
  {
   "cell_type": "code",
   "execution_count": null,
   "id": "79e422db",
   "metadata": {},
   "outputs": [],
   "source": [
    "global dump"
   ]
  },
  {
   "cell_type": "code",
   "execution_count": null,
   "id": "6a92000b",
   "metadata": {},
   "outputs": [],
   "source": [
    "dataDir = \"./Data/\""
   ]
  },
  {
   "cell_type": "code",
   "execution_count": null,
   "id": "37c7234d",
   "metadata": {},
   "outputs": [],
   "source": [
    "url = \"https://data.cosmic.ucar.edu/gnss-ro/cosmic2/provisional/spaceWeather/level2/2022/010/ionPrf_prov1_2022_010.tar.gz\""
   ]
  },
  {
   "cell_type": "code",
   "execution_count": null,
   "id": "320e7988",
   "metadata": {
    "lines_to_next_cell": 1
   },
   "outputs": [],
   "source": [
    "req = requests.get(url )"
   ]
  },
  {
   "cell_type": "code",
   "execution_count": null,
   "id": "a4fd77ad",
   "metadata": {
    "lines_to_next_cell": 1
   },
   "outputs": [],
   "source": [
    "def save_file():\n",
    "    global dump"
   ]
  },
  {
   "cell_type": "code",
   "execution_count": null,
   "id": "f819bea7",
   "metadata": {},
   "outputs": [],
   "source": [
    "with open('./Data/ionPrf_prov1_2022_010.tar.gz', 'wb') as myfile:\n",
    "    myfile.write(req.content)"
   ]
  },
  {
   "cell_type": "code",
   "execution_count": null,
   "id": "edcc3288",
   "metadata": {
    "lines_to_next_cell": 2
   },
   "outputs": [],
   "source": [
    "print(req.encoding)\n",
    "print(req.headers['content-type'])\n",
    "print(req.status_code)"
   ]
  },
  {
   "cell_type": "code",
   "execution_count": null,
   "id": "232c7859",
   "metadata": {},
   "outputs": [],
   "source": [
    "target_path = \"./Data/ionPrf_prov1_2022_010.tar.gz\""
   ]
  },
  {
   "cell_type": "code",
   "execution_count": null,
   "id": "9fd15600",
   "metadata": {},
   "outputs": [],
   "source": [
    "# open file\n",
    "file = tarfile.open(target_path)"
   ]
  },
  {
   "cell_type": "code",
   "execution_count": null,
   "id": "403e5af9",
   "metadata": {},
   "outputs": [],
   "source": [
    "# extracting file\n",
    "file.extractall(dataDir)"
   ]
  },
  {
   "cell_type": "code",
   "execution_count": null,
   "id": "ee8e9958",
   "metadata": {},
   "outputs": [],
   "source": [
    "file.close()"
   ]
  },
  {
   "cell_type": "code",
   "execution_count": null,
   "id": "867425ef",
   "metadata": {},
   "outputs": [],
   "source": []
  },
  {
   "cell_type": "code",
   "execution_count": null,
   "id": "78ca4e74",
   "metadata": {},
   "outputs": [],
   "source": []
  }
 ],
 "metadata": {
  "jupytext": {
   "cell_metadata_filter": "-all",
   "main_language": "python",
   "notebook_metadata_filter": "-all"
  },
  "kernelspec": {
   "display_name": "Python 3",
   "language": "python",
   "name": "python3"
  },
  "language_info": {
   "codemirror_mode": {
    "name": "ipython",
    "version": 3
   },
   "file_extension": ".py",
   "mimetype": "text/x-python",
   "name": "python",
   "nbconvert_exporter": "python",
   "pygments_lexer": "ipython3",
   "version": "3.8.3"
  }
 },
 "nbformat": 4,
 "nbformat_minor": 5
}
