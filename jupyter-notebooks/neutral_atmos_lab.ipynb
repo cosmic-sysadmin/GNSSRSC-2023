{
 "cells": [
  {
   "cell_type": "markdown",
   "id": "49b48ad9-e099-4a79-8f29-705161116c99",
   "metadata": {
    "tags": []
   },
   "source": [
    "# Neutral Atmosphere Lab"
   ]
  },
  {
   "cell_type": "markdown",
   "id": "c5d734ee-2b19-45b9-aa90-09c28b269eb8",
   "metadata": {},
   "source": [
    "This lab will guide you through performing basic analysis and plotting of neutral atmosphere GNSS radio occultation (RO) data from CDAAC.\n",
    "\n",
    "For this, we'll..."
   ]
  },
  {
   "cell_type": "markdown",
   "id": "12669f34-96f5-45b5-9d64-661d8bb0d624",
   "metadata": {},
   "source": [
    "## Data selection"
   ]
  },
  {
   "cell_type": "markdown",
   "id": "bdc523e3-0d93-42ed-9007-90a721ad55d3",
   "metadata": {},
   "source": [
    "Let's first select the date we'll analyze. This will be done in the typical RO format of year.day_of_year. For example, 2023 May 01 is coded as '2023.121'. A day of year calendar, such as [this one hosted at NOAA ESRL](https://www.esrl.noaa.gov/gmd/grad/neubrew/Calendar.jsp?view=DOY&year=2023&col=4), can be helpful when working with this format."
   ]
  },
  {
   "cell_type": "code",
   "execution_count": 1,
   "id": "292724ad-d31d-4e17-b47b-6116915e99df",
   "metadata": {
    "tags": []
   },
   "outputs": [],
   "source": [
    "# USER INPUT: Date selection\n",
    "data_yrdoy = '2023.121'"
   ]
  },
  {
   "cell_type": "markdown",
   "id": "b4eca23e-aa68-4f84-a4b8-880637981829",
   "metadata": {},
   "source": [
    "The above date determines the data directories from which we will read occultation files. The below will use Python f-strings to fill the year.day_of_year variable `data_yrdoy` between curly brackets in the string declaration."
   ]
  },
  {
   "cell_type": "code",
   "execution_count": 2,
   "id": "67bc25d3-9ae8-48fe-b96a-9bdbbc614446",
   "metadata": {},
   "outputs": [
    {
     "name": "stdout",
     "output_type": "stream",
     "text": [
      "[INFO] Data directory for atmPrf : ./userdata/data/cosmic2/nrt/level2/atmPrf/2023.121/\n",
      "[INFO] Data directory for wetPf2 : ./userdata/data/cosmic2/nrt/level2/wetPf2/2023.121/\n",
      "[INFO] Plot directory            : ./userdata/plots/\n"
     ]
    }
   ],
   "source": [
    "# Data directories for neutral atmosphere products\n",
    "atmPrf_data_dir = f'./userdata/data/cosmic2/nrt/level2/atmPrf/{data_yrdoy}/'\n",
    "wetPf2_data_dir = f'./userdata/data/cosmic2/nrt/level2/wetPf2/{data_yrdoy}/'\n",
    "\n",
    "# Plot directory\n",
    "plot_dir = './userdata/plots/'\n",
    "\n",
    "# Information\n",
    "print(f'[INFO] Data directory for atmPrf : {atmPrf_data_dir}')\n",
    "print(f'[INFO] Data directory for wetPf2 : {wetPf2_data_dir}')\n",
    "print(f'[INFO] Plot directory            : {plot_dir}')"
   ]
  },
  {
   "cell_type": "markdown",
   "id": "b0fc33b1-7b8c-44f0-aede-dcb78b57c76c",
   "metadata": {
    "tags": []
   },
   "source": [
    "## Imports"
   ]
  },
  {
   "cell_type": "code",
   "execution_count": 3,
   "id": "bb398125-f004-4f4c-bba8-107938cb3813",
   "metadata": {},
   "outputs": [],
   "source": [
    "# Libraries\n",
    "import os\n",
    "import requests\n",
    "import tarfile\n",
    "from datetime import datetime\n",
    "from netCDF4 import Dataset\n",
    "import numpy as np\n",
    "import matplotlib.pyplot as plt"
   ]
  },
  {
   "cell_type": "markdown",
   "id": "5014a7c5-f1f5-42e5-bec8-60647caa12a7",
   "metadata": {
    "tags": []
   },
   "source": [
    "## Preparation"
   ]
  },
  {
   "cell_type": "markdown",
   "id": "46748592-ad9c-4848-8190-1624eaa51421",
   "metadata": {},
   "source": [
    "Note: this section may be skipped if the data are downloaded and extracted into the appropriate directories.\n",
    "\n",
    "Using our examples from the previous days' labs, download the data files we'll use, if they don't already exist.\n",
    "\n",
    "To start, we'll use Python functionality to create a data directory structure to hold our data and plots. TODO: Fill in more information about the structure."
   ]
  },
  {
   "cell_type": "code",
   "execution_count": 4,
   "id": "6c93bfc6-dfe8-4f18-bf96-c3439425a8ab",
   "metadata": {
    "tags": []
   },
   "outputs": [],
   "source": [
    "# Create directories, if they don't already exist\n",
    "os.makedirs(atmPrf_data_dir,exist_ok=True)\n",
    "os.makedirs(wetPf2_data_dir,exist_ok=True)\n",
    "os.makedirs(plot_dir,exist_ok=True)"
   ]
  },
  {
   "cell_type": "markdown",
   "id": "213af1c1-5a67-4742-a9e1-aecf13a24eb6",
   "metadata": {},
   "source": [
    "Now check if the tar files exist. Download them if not. Check if the tar files have been untarred. Untar them if not. The below will use Python f-strings to fill the file name and server path variables using the date variables."
   ]
  },
  {
   "cell_type": "code",
   "execution_count": 5,
   "id": "1cbf9dc4-e101-4882-95a9-6704f0a4e467",
   "metadata": {
    "tags": []
   },
   "outputs": [],
   "source": [
    "# Get the year and day-of-year separately\n",
    "data_year, data_doy = data_yrdoy.split('.')\n",
    "\n",
    "# Tar file names and paths\n",
    "atmPrf_tar_fname = f'atmPrf_nrt_{data_year}_{data_doy}.tar.gz'\n",
    "wetPf2_tar_fname = f'wetPf2_nrt_{data_year}_{data_doy}.tar.gz'\n",
    "atmPrf_tar_path = f'./userdata/data/cosmic2/nrt/level2/atmPrf/{atmPrf_tar_fname}'\n",
    "wetPf2_tar_path = f'./userdata/data/cosmic2/nrt/level2/wetPf2/{wetPf2_tar_fname}'\n",
    "\n",
    "# Server path\n",
    "cdaac_url = f'https://data.cosmic.ucar.edu/gnss-ro/cosmic2/nrt/level2/{data_year}/{data_doy}/'\n",
    "atmPrf_tar_url = f'{cdaac_url}{atmPrf_tar_fname}'\n",
    "wetPf2_tar_url = f'{cdaac_url}{wetPf2_tar_fname}'\n",
    "\n",
    "# atmPrf tar file is downloaded?\n",
    "if (not os.path.isfile(atmPrf_tar_path)):\n",
    "    response = requests.get(atmPrf_tar_url, stream=True)\n",
    "    if response.status_code == 200:\n",
    "        with open(atmPrf_tar_path, 'wb') as fileid:\n",
    "            fileid.write(response.raw.read())\n",
    "\n",
    "# atmPrf is untarred?\n",
    "if (len(os.listdir(atmPrf_data_dir)) == 0):\n",
    "    with tarfile.open(atmPrf_tar_path) as fileid:\n",
    "        fileid.extractall(atmPrf_data_dir)\n",
    "\n",
    "# wetPf2 tar file is downloaded?\n",
    "if (not os.path.isfile(wetPf2_tar_path)):\n",
    "    response = requests.get(wetPf2_tar_url, stream=True)\n",
    "    if response.status_code == 200:\n",
    "        with open(wetPf2_tar_path, 'wb') as fileid:\n",
    "            fileid.write(response.raw.read())\n",
    "\n",
    "# wetPf2 is untarred?\n",
    "if (len(os.listdir(wetPf2_data_dir)) == 0):\n",
    "    with tarfile.open(wetPf2_tar_path) as fileid:\n",
    "        fileid.extractall(wetPf2_data_dir)"
   ]
  },
  {
   "cell_type": "markdown",
   "id": "99913068-08e3-4737-8aae-3c1bbfaf222f",
   "metadata": {},
   "source": [
    "## Single occultation analysis"
   ]
  },
  {
   "cell_type": "markdown",
   "id": "8bfbfd83-2b7a-49e7-844e-a652a1aff3f1",
   "metadata": {},
   "source": [
    "This section will show how to generate simple plots of a single occultation. We will use these plots to further explore the contents of both of the primary neutral atmospheric products: atmPrf and wetPf2.\n",
    "\n",
    "As a reminder, atmPrf contains the high-resolution occultation data, including bending angle and refractivity, and atmospheric fields calculated under the assumption of no water vapor. The wetPf2 product contains atmospheric fields retrieved through use of a one-dimensional variational analysis process. The below example analysis will illustrate the different resolutions and contents of both products.\n",
    "\n",
    "First we will select a random occultation from the data directory, ensuring that it has been labelled \"good\" by the CDAAC quality controls. We will perform this check using both the atmPrf and wetPf2 products.\n",
    "\n",
    "We will first count the number of profiles."
   ]
  },
  {
   "cell_type": "code",
   "execution_count": 6,
   "id": "29aee4b5-f20f-4517-b961-ca5f505da3e6",
   "metadata": {},
   "outputs": [
    {
     "name": "stdout",
     "output_type": "stream",
     "text": [
      "[INFO] Number of atmPrf files : 4792\n",
      "[INFO] Number of wetPf2 files : 4792\n"
     ]
    }
   ],
   "source": [
    "# Get the occultation file names and counts in our directories\n",
    "atmPrf_fnames = os.listdir(atmPrf_data_dir)\n",
    "wetPf2_fnames = os.listdir(wetPf2_data_dir)\n",
    "n_atmPrf = len(atmPrf_fnames)\n",
    "n_wetPf2 = len(wetPf2_fnames)\n",
    "\n",
    "# Information\n",
    "print(f'[INFO] Number of atmPrf files : {n_atmPrf}')\n",
    "print(f'[INFO] Number of wetPf2 files : {n_wetPf2}')"
   ]
  },
  {
   "cell_type": "markdown",
   "id": "a1b3f173-62ff-46cf-8851-2aadfde905a9",
   "metadata": {},
   "source": [
    "Now initialize the random number generator. For demonstration purposes, the random number generator will be initialized such that it always selects the same profile.\n",
    "\n",
    "Select the random (or \"random\") profile index."
   ]
  },
  {
   "cell_type": "code",
   "execution_count": 7,
   "id": "0ea25733-84ec-4a48-869f-aa89004e1cd4",
   "metadata": {
    "tags": []
   },
   "outputs": [
    {
     "name": "stdout",
     "output_type": "stream",
     "text": [
      "[INFO] Selected index            : 150\n",
      "[INFO] Selected atmPrf file name : ./userdata/data/cosmic2/nrt/level2/atmPrf/2023.121/atmPrf_C2E2.2023.121.21.51.G23_0001.0001_nc\n",
      "[INFO] Selected wetPf2 file name : ./userdata/data/cosmic2/nrt/level2/wetPf2/2023.121/wetPf2_C2E2.2023.121.21.51.G23_0001.0001_nc\n",
      "[INFO] Selected profile ID       : C2E2.2023.121.21.51.G23\n"
     ]
    }
   ],
   "source": [
    "# Seeded (not random) random number generator\n",
    "rng = np.random.default_rng(92842)\n",
    "\n",
    "# Uncomment the below for random number generator\n",
    "#rng = np.random.default_rng()\n",
    "\n",
    "# Select a random integer up to the minimum of the two counts\n",
    "max_prf_count = np.min([n_atmPrf,n_wetPf2])\n",
    "prf_idx = rng.integers(low=0, \\\n",
    "                       high=max_prf_count,\n",
    "                       size=1\n",
    "                      )[0]\n",
    "\n",
    "# Get the profile ID using the atmPrf data set\n",
    "atmPrf_fname_short_now = atmPrf_fnames[prf_idx]\n",
    "wetPf2_fname_short_now = atmPrf_fname_short_now.replace('atmPrf','wetPf2')\n",
    "prf_id_now = atmPrf_fname_short_now.split('_')[1]\n",
    "\n",
    "# Get the file names\n",
    "atmPrf_fname_now = f'{atmPrf_data_dir}{atmPrf_fname_short_now}'\n",
    "wetPf2_fname_now = f'{wetPf2_data_dir}{wetPf2_fname_short_now}'\n",
    "\n",
    "# Information\n",
    "print(f'[INFO] Selected index            : {prf_idx}')\n",
    "print(f'[INFO] Selected atmPrf file name : {atmPrf_fname_now}')\n",
    "print(f'[INFO] Selected wetPf2 file name : {wetPf2_fname_now}')\n",
    "print(f'[INFO] Selected profile ID       : {prf_id_now}')"
   ]
  },
  {
   "cell_type": "markdown",
   "id": "7af2bb85-b85f-4dc1-aaaa-6148531bd37e",
   "metadata": {},
   "source": [
    "Read the files into memory. Check if they are flagged as \"bad\" or not. Profiles are flagged as \"bad\" if the global attribute \"bad\" is 1."
   ]
  },
  {
   "cell_type": "code",
   "execution_count": 8,
   "id": "bc04509b-e9d6-48d1-9025-517780741c09",
   "metadata": {
    "tags": []
   },
   "outputs": [
    {
     "name": "stdout",
     "output_type": "stream",
     "text": [
      "[INFO] atmPrf file bad flag is \"0\"; the file is GOOD.\n",
      "[INFO] wetPf2 file bad flag is \"0\"; the file is GOOD.\n"
     ]
    }
   ],
   "source": [
    "# Use netCDF4 to read the files\n",
    "atmPrf_ncid_now = Dataset(atmPrf_fname_now)\n",
    "wetPf2_ncid_now = Dataset(wetPf2_fname_now)\n",
    "\n",
    "# Read bad flags from both files\n",
    "atmPrf_bad_flag = int(atmPrf_ncid_now.bad)\n",
    "wetPf2_bad_flag = int(wetPf2_ncid_now.bad)\n",
    "atmPrf_bad_or_good = 'bad' if atmPrf_bad_flag else 'good'\n",
    "wetPf2_bad_or_good = 'bad' if wetPf2_bad_flag else 'good'\n",
    "\n",
    "# Information\n",
    "print(f'[INFO] atmPrf file bad flag is \"{atmPrf_bad_flag}\"; the file is {atmPrf_bad_or_good.upper()}.')\n",
    "print(f'[INFO] wetPf2 file bad flag is \"{wetPf2_bad_flag}\"; the file is {wetPf2_bad_or_good.upper()}.')"
   ]
  },
  {
   "cell_type": "markdown",
   "id": "cfc3e12e-2a23-4161-8330-a8c32a3e4820",
   "metadata": {},
   "source": [
    "For the demonstration, the random number generator has been seeded such that the occultation we select is \"good\" in both files. If the random number generator was not seeded in this way -- say by using the commented command for `rng` above -- then the below will iteratively check the files until a \"good\" occultation is selected."
   ]
  },
  {
   "cell_type": "code",
   "execution_count": null,
   "id": "d5cb9911-0408-41bf-86f6-7c2f0df92cd6",
   "metadata": {},
   "outputs": [],
   "source": []
  },
  {
   "cell_type": "markdown",
   "id": "13acd632-a142-404b-8a7b-ac132ca4d58e",
   "metadata": {},
   "source": [
    "### atmPrf"
   ]
  },
  {
   "cell_type": "code",
   "execution_count": 9,
   "id": "5ac95257-52c0-4c11-a54c-025ceb271b56",
   "metadata": {
    "tags": []
   },
   "outputs": [],
   "source": [
    "# Additional date variables\n",
    "data_datetime = datetime.strptime(data_yrdoy,'%Y.%j')\n",
    "data_yyyymmdd = datetime.strftime(data_datetime,'%Y-%m-%d')"
   ]
  }
 ],
 "metadata": {
  "kernelspec": {
   "display_name": "Python 3 (ipykernel)",
   "language": "python",
   "name": "python3"
  },
  "language_info": {
   "codemirror_mode": {
    "name": "ipython",
    "version": 3
   },
   "file_extension": ".py",
   "mimetype": "text/x-python",
   "name": "python",
   "nbconvert_exporter": "python",
   "pygments_lexer": "ipython3",
   "version": "3.9.16"
  }
 },
 "nbformat": 4,
 "nbformat_minor": 5
}
