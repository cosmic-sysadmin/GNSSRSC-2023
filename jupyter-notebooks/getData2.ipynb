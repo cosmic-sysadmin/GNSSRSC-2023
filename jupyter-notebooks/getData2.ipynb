{
 "cells": [
  {
   "cell_type": "code",
   "execution_count": null,
   "id": "785b4758",
   "metadata": {},
   "outputs": [],
   "source": [
    "import os\n",
    "import requests\n",
    "import tarfile\n",
    "\n",
    "# specify the data you prefer: mission, filetype, level, ppmode, yr, doy\n",
    "#mission='spire/noaa'\n",
    "mission='cosmic2'\n",
    "ftype = 'atmPrf'\n",
    "level = 'level2'\n",
    "ppmod = 'nrt'\n",
    "yr = '2022'\n",
    "doy = '110'\n",
    "\n",
    "fname = ftype+'_'+ppmod+'_'+yr+'_'+doy+'.tar.gz'\n",
    "url = 'https://data.cosmic.ucar.edu/gnss-ro/'+mission+'/'+ppmod+'/'+level+'/'+yr+'/'+doy+'/'+fname\n",
    "target_path = mission+'/'+ftype+'/'+fname\n",
    "\n",
    "dir_list = target_path.split(\"/\")\n",
    "if not os.path.exists(os.path.dirname(target_path)):\n",
    "\tos.makedirs(os.path.dirname(target_path))\n",
    "\n",
    "# download the data \n",
    "response = requests.get(url, stream=True)\n",
    "if response.status_code == 200:\n",
    "    with open(target_path, 'wb') as f:\n",
    "        f.write(response.raw.read())\n",
    "\n",
    "# open file\n",
    "file = tarfile.open(target_path)\n",
    "  \n",
    "# extracting file\n",
    "file.extractall(os.path.dirname(target_path))\n",
    "  \n",
    "file.close()\n",
    "\n",
    "# remove .tar.gz file\n",
    "if os.path.exists(target_path):\n",
    "\tos.remove(target_path)\n",
    "else:\n",
    "\tprint(\"File does not exist.\")"
   ]
  }
 ],
 "metadata": {
  "kernelspec": {
   "display_name": "Python 3 (ipykernel)",
   "language": "python",
   "name": "python3"
  },
  "language_info": {
   "codemirror_mode": {
    "name": "ipython",
    "version": 3
   },
   "file_extension": ".py",
   "mimetype": "text/x-python",
   "name": "python",
   "nbconvert_exporter": "python",
   "pygments_lexer": "ipython3",
   "version": "3.8.5"
  }
 },
 "nbformat": 4,
 "nbformat_minor": 5
}
