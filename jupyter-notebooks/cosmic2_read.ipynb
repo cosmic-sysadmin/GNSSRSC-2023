{
 "cells": [
  {
   "cell_type": "code",
   "execution_count": 1,
   "id": "bd3d73d5",
   "metadata": {},
   "outputs": [],
   "source": [
    "#Import libraries\n",
    "import matplotlib\n",
    "matplotlib.use('Agg')\n",
    "import matplotlib.pyplot as plt\n",
    "from netCDF4 import Dataset as NCF\n",
    "import numpy as np\n",
    "import os\n",
    "import sys"
   ]
  },
  {
   "cell_type": "code",
   "execution_count": 2,
   "id": "05281f90",
   "metadata": {},
   "outputs": [],
   "source": [
    "# Create definitions\n",
    "\n",
    "def getAtmPrfData(nc): #reads in atmPrf files\n",
    "    alt = nc.variables['MSL_alt'][:] #reads in altitude array\n",
    "    ba = nc.variables['Bend_ang'][:] #reads in bending angle array\n",
    "    badFile = nc.bad #0 = good, 1 = bad\n",
    "\n",
    "    return alt, ba, badFile"
   ]
  },
  {
   "cell_type": "code",
   "execution_count": 3,
   "id": "9107fe44",
   "metadata": {},
   "outputs": [],
   "source": [
    "# Path to data\n",
    "dataDir = \"/Users/huelsing/Desktop/Teaching/Data/\"\n",
    "atmPrfFile = dataDir + \"atmPrf_C2E6.2021.168.23.59.G20_0001.0001_nc\""
   ]
  },
  {
   "cell_type": "code",
   "execution_count": 4,
   "id": "f7f89f47",
   "metadata": {},
   "outputs": [],
   "source": [
    "# Read in data from netCDF files\n",
    "\n",
    "ncfAtm = NCF(atmPrfFile,'r')\n",
    "atmAlt, atmBa, atmBad = getAtmPrfData(ncfAtm)\n",
    "ncfAtm.close()"
   ]
  },
  {
   "cell_type": "code",
   "execution_count": 6,
   "id": "0e3507f0",
   "metadata": {},
   "outputs": [],
   "source": [
    "# Plot raw profiles\n",
    "\n",
    "figOutDir = \"/Users/huelsing/Desktop/Teaching/Graphs/\"\n",
    "\n",
    "titleStr = \"Bending Angle on 2021/06/17\"\n",
    "outFile = figOutDir + \"BA.png\"\n",
    "fig1 = plt.figure(1, figsize=(9, 6))\n",
    "grid1 = plt.GridSpec(4, 6, hspace=0.2, wspace=0.5)\n",
    "ax1  = fig1.add_subplot(grid1[:, :])\n",
    "ax1.plot(atmBa,atmAlt,linestyle='-',color='black',linewidth=2,label=\"COSMIC-2 atmPrf\")\n",
    "ax1.set_xlabel(\"Bending Angle (radians)\",fontsize = 16)\n",
    "ax1.set_ylabel(\"Height (km)\",fontsize = 16)\n",
    "ax1.set_ylim([0,40]) #y-axis limits\n",
    "ax1.set_xlim([-0.001,0.04]) #x-axis limits\n",
    "ax1.tick_params(axis='both', which='major', labelsize=13) #controls axis tick labels\n",
    "ax1.legend(loc=1, borderaxespad=0.,fontsize = 9) #adds legend\n",
    "plt.title(titleStr,fontsize = 18,fontweight=\"bold\") #adds plot title\n",
    "fig1.savefig(outFile, bbox_inches='tight',dpi=300) #where to save plus image quality (dpi)\n",
    "plt.close(fig1)"
   ]
  },
  {
   "cell_type": "code",
   "execution_count": null,
   "id": "26766103",
   "metadata": {},
   "outputs": [],
   "source": []
  }
 ],
 "metadata": {
  "kernelspec": {
   "display_name": "Python 3 (ipykernel)",
   "language": "python",
   "name": "python3"
  },
  "language_info": {
   "codemirror_mode": {
    "name": "ipython",
    "version": 3
   },
   "file_extension": ".py",
   "mimetype": "text/x-python",
   "name": "python",
   "nbconvert_exporter": "python",
   "pygments_lexer": "ipython3",
   "version": "3.8.2"
  }
 },
 "nbformat": 4,
 "nbformat_minor": 5
}
