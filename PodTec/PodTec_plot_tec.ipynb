{
 "cells": [
  {
   "cell_type": "code",
   "execution_count": null,
   "id": "a779d6da",
   "metadata": {},
   "outputs": [],
   "source": [
    "import netCDF4\n",
    "from netCDF4 import Dataset as NCF\n",
    "import numpy as np\n",
    "import matplotlib.pyplot as plt"
   ]
  },
  {
   "cell_type": "code",
   "execution_count": null,
   "id": "848f8edd",
   "metadata": {},
   "outputs": [],
   "source": [
    "dataDir = \"./Data/\""
   ]
  },
  {
   "cell_type": "code",
   "execution_count": null,
   "id": "ee6873d6",
   "metadata": {},
   "outputs": [],
   "source": [
    "fName = \"podTc2_C2E3.2021.020.23.47.0010.R21.02_0001.0001_nc\"\n",
    "tecFile = dataDir + fName"
   ]
  },
  {
   "cell_type": "code",
   "execution_count": null,
   "id": "799509ff",
   "metadata": {},
   "outputs": [],
   "source": [
    "# Filename\n",
    "fileType = fName[0:6]\n",
    "const = fName[6:7]\n",
    "fmNum = fName[7:11]\n",
    "fYear = fName[12:16]\n",
    "fDoy = fName[17:20]\n",
    "fMin = fName[21:23]\n",
    "fSec = fName[24:26]\n",
    "timeStr = fName[21:26]\n",
    "leo = fName[32:35]"
   ]
  },
  {
   "cell_type": "code",
   "execution_count": null,
   "id": "f1138332",
   "metadata": {},
   "outputs": [],
   "source": [
    "f = NCF(tecFile,'r')"
   ]
  },
  {
   "cell_type": "code",
   "execution_count": null,
   "id": "8f929725",
   "metadata": {},
   "outputs": [],
   "source": [
    "for d in f.dimensions.items():\n",
    "  print(d)\n",
    "input"
   ]
  },
  {
   "cell_type": "code",
   "execution_count": null,
   "id": "664e5043",
   "metadata": {},
   "outputs": [],
   "source": [
    "print(f.variables.keys()) # get all variable names"
   ]
  },
  {
   "cell_type": "code",
   "execution_count": null,
   "id": "7c5eaa0d",
   "metadata": {},
   "outputs": [],
   "source": [
    "d = (f.__dict__['duration'])"
   ]
  },
  {
   "cell_type": "code",
   "execution_count": null,
   "id": "49063b22",
   "metadata": {},
   "outputs": [],
   "source": [
    "lm=int(1)"
   ]
  },
  {
   "cell_type": "code",
   "execution_count": null,
   "id": "c5980134",
   "metadata": {},
   "outputs": [],
   "source": [
    "t = f.variables['time'] # time variable\n",
    "tec = f.variables['TEC'] # tec variable\n",
    "snr = f.variables['caL1_SNR'] # height variable\n",
    "elev = f.variables['elevation'] # elevation variable\n",
    "s4i = f.variables['S4'] # elevation variable"
   ]
  },
  {
   "cell_type": "code",
   "execution_count": null,
   "id": "96699016",
   "metadata": {},
   "outputs": [],
   "source": [
    "sz = int(d)"
   ]
  },
  {
   "cell_type": "code",
   "execution_count": null,
   "id": "4eabbc67",
   "metadata": {},
   "outputs": [],
   "source": [
    "scale=sz-lm"
   ]
  },
  {
   "cell_type": "code",
   "execution_count": null,
   "id": "cd0c741b",
   "metadata": {},
   "outputs": [],
   "source": [
    "time = t[lm:sz] #+35019\n",
    "atec = tec[lm:sz]\n",
    "ampl = snr[lm:sz]\n",
    "elangl = elev[lm:sz]\n",
    "scint = s4i[lm:sz]"
   ]
  },
  {
   "cell_type": "code",
   "execution_count": null,
   "id": "9e65b69b",
   "metadata": {},
   "outputs": [],
   "source": [
    "f.close()"
   ]
  },
  {
   "cell_type": "code",
   "execution_count": null,
   "id": "537ae601",
   "metadata": {},
   "outputs": [],
   "source": [
    "figOutDir = \"./Graphs/\""
   ]
  },
  {
   "cell_type": "code",
   "execution_count": null,
   "id": "623c729a",
   "metadata": {},
   "outputs": [],
   "source": [
    "outFile = figOutDir + fileType + \".\" + fmNum +\".\"+ leo +\".\" + fYear + \".\" + fDoy + \".\" + fMin +\".\"+ fSec +\".png\""
   ]
  },
  {
   "cell_type": "code",
   "execution_count": null,
   "id": "d2a9c08f",
   "metadata": {},
   "outputs": [],
   "source": [
    "titleStr = ('COSMIC-2' + \"    \" + fileType + \".\" + fmNum +\".\"+ leo +\".\" + fYear + \".\" + fDoy + \".\" + fMin +\".\"+ fSec)"
   ]
  },
  {
   "cell_type": "code",
   "execution_count": null,
   "id": "1e637917",
   "metadata": {},
   "outputs": [],
   "source": [
    "fig2 = plt.figure(1, figsize=(9, 6))\n",
    "grid2 = plt.GridSpec(4, 6, hspace=0.2, wspace=0.5)\n",
    "ax2  = fig2.add_subplot(grid2[:, :])\n",
    "ax3 = ax2.twinx()\n",
    "#ax3.set_ylim(-100, 100);"
   ]
  },
  {
   "cell_type": "code",
   "execution_count": null,
   "id": "fd5fbb84",
   "metadata": {},
   "outputs": [],
   "source": [
    "ax2.plot(time, atec, linestyle='-',color='red',linewidth=2, label=\"COSMIC-2 podTec\")\n",
    "ax3.plot(time, elangl, linestyle='-',color='blue',linewidth=2,label=\"COSMIC-2 elevation\")"
   ]
  },
  {
   "cell_type": "code",
   "execution_count": null,
   "id": "267ca6bb",
   "metadata": {},
   "outputs": [],
   "source": [
    "ax2.set_xlabel(\"Time, s\",fontsize = 14)\n",
    "ax2.set_ylabel(\"TEC (TECU)\",fontsize = 14)\n",
    "ax3.set_ylabel(\"Elevation (deg)\",fontsize = 14)"
   ]
  },
  {
   "cell_type": "code",
   "execution_count": null,
   "id": "554b434f",
   "metadata": {},
   "outputs": [],
   "source": [
    "ax2.tick_params(axis='both', which='major', labelsize=13) #  tick labels\n",
    "ax2.legend(loc=8, borderaxespad=0.,fontsize = 9) #adds legend\n",
    "ax3.legend(loc=9, borderaxespad=0.,fontsize = 9) #adds legend\n",
    "plt.title(titleStr,fontsize = 14) #adds plot title"
   ]
  },
  {
   "cell_type": "code",
   "execution_count": null,
   "id": "7add96fb",
   "metadata": {},
   "outputs": [],
   "source": [
    "fig2.savefig(outFile, bbox_inches='tight',dpi=300) # image resolution\n",
    "plt.close(fig2)"
   ]
  },
  {
   "cell_type": "code",
   "execution_count": null,
   "id": "0bc31fd3",
   "metadata": {
    "lines_to_next_cell": 2
   },
   "outputs": [],
   "source": []
  }
 ],
 "metadata": {
  "jupytext": {
   "cell_metadata_filter": "-all",
   "main_language": "python",
   "notebook_metadata_filter": "-all"
  },
  "kernelspec": {
   "display_name": "Python 3",
   "language": "python",
   "name": "python3"
  },
  "language_info": {
   "codemirror_mode": {
    "name": "ipython",
    "version": 3
   },
   "file_extension": ".py",
   "mimetype": "text/x-python",
   "name": "python",
   "nbconvert_exporter": "python",
   "pygments_lexer": "ipython3",
   "version": "3.8.3"
  }
 },
 "nbformat": 4,
 "nbformat_minor": 5
}
