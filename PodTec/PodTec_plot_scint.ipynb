{
 "cells": [
  {
   "cell_type": "code",
   "execution_count": null,
   "id": "f07100c5",
   "metadata": {},
   "outputs": [],
   "source": [
    "import netCDF4\n",
    "from netCDF4 import Dataset as NCF\n",
    "import numpy as np\n",
    "import matplotlib.pyplot as plt"
   ]
  },
  {
   "cell_type": "code",
   "execution_count": null,
   "id": "6721bade",
   "metadata": {},
   "outputs": [],
   "source": [
    "dataDir = \"./Data/\""
   ]
  },
  {
   "cell_type": "code",
   "execution_count": null,
   "id": "23bcb672",
   "metadata": {},
   "outputs": [],
   "source": [
    "fName = \"podTc2_C2E3.2021.020.23.47.0010.R21.02_0001.0001_nc\"\n",
    "tecFile = dataDir + fName"
   ]
  },
  {
   "cell_type": "code",
   "execution_count": null,
   "id": "73e56901",
   "metadata": {},
   "outputs": [],
   "source": [
    "# Filename\n",
    "fileType = fName[0:6]\n",
    "const = fName[6:7]\n",
    "fmNum = fName[7:11]\n",
    "fYear = fName[12:16]\n",
    "fDoy = fName[17:20]\n",
    "fMin = fName[21:23]\n",
    "fSec = fName[24:26]\n",
    "timeStr = fName[21:26]\n",
    "leo = fName[32:35]"
   ]
  },
  {
   "cell_type": "code",
   "execution_count": null,
   "id": "9e45df4f",
   "metadata": {},
   "outputs": [],
   "source": [
    "f = NCF(tecFile,'r')"
   ]
  },
  {
   "cell_type": "code",
   "execution_count": null,
   "id": "f2f8aae4",
   "metadata": {},
   "outputs": [],
   "source": [
    "for d in f.dimensions.items():\n",
    "  print(d)\n",
    "input"
   ]
  },
  {
   "cell_type": "code",
   "execution_count": null,
   "id": "b1a89904",
   "metadata": {},
   "outputs": [],
   "source": [
    "print(f.variables.keys()) # get all variable names"
   ]
  },
  {
   "cell_type": "code",
   "execution_count": null,
   "id": "4d7e92d0",
   "metadata": {},
   "outputs": [],
   "source": [
    "d = (f.__dict__['duration'])"
   ]
  },
  {
   "cell_type": "code",
   "execution_count": null,
   "id": "bbbbc614",
   "metadata": {},
   "outputs": [],
   "source": [
    "lm=int(1)"
   ]
  },
  {
   "cell_type": "code",
   "execution_count": null,
   "id": "5c0fc754",
   "metadata": {},
   "outputs": [],
   "source": [
    "t = f.variables['time'] # time variable\n",
    "tec = f.variables['TEC'] # tec variable\n",
    "snr = f.variables['caL1_SNR'] # height variable\n",
    "elev = f.variables['elevation'] # elevation variable\n",
    "s4i = f.variables['S4'] # elevation variable"
   ]
  },
  {
   "cell_type": "code",
   "execution_count": null,
   "id": "ece00ba3",
   "metadata": {},
   "outputs": [],
   "source": [
    "sz = int(d)"
   ]
  },
  {
   "cell_type": "code",
   "execution_count": null,
   "id": "170e2b57",
   "metadata": {},
   "outputs": [],
   "source": [
    "scale=sz-lm"
   ]
  },
  {
   "cell_type": "code",
   "execution_count": null,
   "id": "cd811d99",
   "metadata": {},
   "outputs": [],
   "source": [
    "time = t[lm:sz] #+35019\n",
    "atec = tec[lm:sz]\n",
    "ampl = snr[lm:sz]\n",
    "elangl = elev[lm:sz]\n",
    "scint = s4i[lm:sz]"
   ]
  },
  {
   "cell_type": "code",
   "execution_count": null,
   "id": "e1102412",
   "metadata": {},
   "outputs": [],
   "source": [
    "f.close()"
   ]
  },
  {
   "cell_type": "code",
   "execution_count": null,
   "id": "956b8b16",
   "metadata": {},
   "outputs": [],
   "source": [
    "figOutDir = \"./Graphs/\""
   ]
  },
  {
   "cell_type": "code",
   "execution_count": null,
   "id": "86dac416",
   "metadata": {},
   "outputs": [],
   "source": [
    "outFile = figOutDir + fileType + \"Scint\" + fmNum +\".\"+ leo +\".\" + fYear + \".\" + fDoy + \".\" + fMin +\".\"+ fSec +\".png\""
   ]
  },
  {
   "cell_type": "code",
   "execution_count": null,
   "id": "95bce062",
   "metadata": {},
   "outputs": [],
   "source": [
    "titleStr = ('COSMIC-2' + \"    \" + fileType + \".\" + fmNum +\".\"+ leo +\".\" + fYear + \".\" + fDoy + \".\" + fMin +\".\"+ fSec)"
   ]
  },
  {
   "cell_type": "code",
   "execution_count": null,
   "id": "41c1effb",
   "metadata": {},
   "outputs": [],
   "source": [
    "fig1 = plt.figure(1, figsize=(9, 6))\n",
    "grid1 = plt.GridSpec(4, 6, hspace=0.2, wspace=0.5)\n",
    "ax1  = fig1.add_subplot(grid1[:, :])\n",
    "ax2 = ax1.twinx()\n",
    "#ax3.set_ylim(-100, 100);"
   ]
  },
  {
   "cell_type": "code",
   "execution_count": null,
   "id": "a987765b",
   "metadata": {
    "lines_to_next_cell": 2
   },
   "outputs": [],
   "source": [
    "ax1.plot(time, ampl, linestyle='-',color='red',linewidth=2, label=\"COSMIC-2 L1 SNR\")\n",
    "ax2.plot(time, scint, linestyle='-',color='blue',linewidth=2,label=\"COSMIC-2 S4 index\")"
   ]
  },
  {
   "cell_type": "code",
   "execution_count": null,
   "id": "9fb57d1f",
   "metadata": {},
   "outputs": [],
   "source": [
    "ax1.set_xlabel(\"Time, s\",fontsize = 14)\n",
    "ax1.set_ylabel(\"SNR (v/v)\",fontsize = 14)\n",
    "ax2.set_ylabel(\"S4\",fontsize = 14)"
   ]
  },
  {
   "cell_type": "code",
   "execution_count": null,
   "id": "44b8694d",
   "metadata": {},
   "outputs": [],
   "source": [
    "ax1.tick_params(axis='both', which='major', labelsize=13) #  tick labels\n",
    "ax1.legend(loc=8, borderaxespad=0.,fontsize = 9) #adds legend\n",
    "ax2.legend(loc=9, borderaxespad=0.,fontsize = 9) #adds legend\n",
    "plt.title(titleStr,fontsize = 14) #adds plot title"
   ]
  },
  {
   "cell_type": "code",
   "execution_count": null,
   "id": "462a65b3",
   "metadata": {},
   "outputs": [],
   "source": [
    "fig1.savefig(outFile, bbox_inches='tight',dpi=300) # image resolution\n",
    "plt.close(fig1)"
   ]
  },
  {
   "cell_type": "code",
   "execution_count": null,
   "id": "edc231ef",
   "metadata": {
    "lines_to_next_cell": 2
   },
   "outputs": [],
   "source": []
  }
 ],
 "metadata": {
  "jupytext": {
   "cell_metadata_filter": "-all",
   "main_language": "python",
   "notebook_metadata_filter": "-all"
  },
  "kernelspec": {
   "display_name": "Python 3",
   "language": "python",
   "name": "python3"
  },
  "language_info": {
   "codemirror_mode": {
    "name": "ipython",
    "version": 3
   },
   "file_extension": ".py",
   "mimetype": "text/x-python",
   "name": "python",
   "nbconvert_exporter": "python",
   "pygments_lexer": "ipython3",
   "version": "3.8.3"
  }
 },
 "nbformat": 4,
 "nbformat_minor": 5
}
