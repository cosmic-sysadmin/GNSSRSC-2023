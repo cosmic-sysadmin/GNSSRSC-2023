{
 "cells": [
  {
   "cell_type": "markdown",
   "id": "87eb4863",
   "metadata": {},
   "source": [
    "Download PodTEC data form data.cosmic.ucar.edu"
   ]
  },
  {
   "cell_type": "code",
   "execution_count": null,
   "id": "d5d5bc3d",
   "metadata": {},
   "outputs": [],
   "source": [
    "import pandas as pd\n",
    "import numpy as np\n",
    "import sys\n",
    "import requests\n",
    "import tarfile\n",
    "import os\n",
    "import shutil"
   ]
  },
  {
   "cell_type": "code",
   "execution_count": null,
   "id": "aaf5149b",
   "metadata": {},
   "outputs": [],
   "source": [
    "global dump"
   ]
  },
  {
   "cell_type": "code",
   "execution_count": null,
   "id": "1738c10c",
   "metadata": {},
   "outputs": [],
   "source": [
    "dataDir = \"./Data/\""
   ]
  },
  {
   "cell_type": "code",
   "execution_count": null,
   "id": "5e00297d",
   "metadata": {},
   "outputs": [],
   "source": [
    "url = \"https://data.cosmic.ucar.edu/gnss-ro/cosmic2/provisional/spaceWeather/level1b/2021/020/podTc2_prov1_2021_020.tar.gz\""
   ]
  },
  {
   "cell_type": "code",
   "execution_count": null,
   "id": "69dfb891",
   "metadata": {
    "lines_to_next_cell": 1
   },
   "outputs": [],
   "source": [
    "req = requests.get(url )"
   ]
  },
  {
   "cell_type": "code",
   "execution_count": null,
   "id": "a6be0041",
   "metadata": {
    "lines_to_next_cell": 1
   },
   "outputs": [],
   "source": [
    "def save_file():\n",
    "    global dump"
   ]
  },
  {
   "cell_type": "code",
   "execution_count": null,
   "id": "4bd84a40",
   "metadata": {},
   "outputs": [],
   "source": [
    "with open('./Data/podTc2_prov1_2021_020.tar.gz', 'wb') as myfile:\n",
    "    myfile.write(req.content)"
   ]
  },
  {
   "cell_type": "code",
   "execution_count": null,
   "id": "43f7b5fc",
   "metadata": {},
   "outputs": [],
   "source": [
    "print(req.encoding)\n",
    "print(req.headers['content-type'])\n",
    "print(req.status_code)"
   ]
  },
  {
   "cell_type": "code",
   "execution_count": null,
   "id": "fbf400ac",
   "metadata": {},
   "outputs": [],
   "source": [
    "target_path = \"./Data/podTc2_prov1_2021_020.tar.gz\""
   ]
  },
  {
   "cell_type": "code",
   "execution_count": null,
   "id": "3e8f996b",
   "metadata": {},
   "outputs": [],
   "source": [
    "# open file\n",
    "file = tarfile.open(target_path)"
   ]
  },
  {
   "cell_type": "code",
   "execution_count": null,
   "id": "a4cb9b99",
   "metadata": {},
   "outputs": [],
   "source": [
    "# extracting file\n",
    "file.extractall(dataDir)"
   ]
  },
  {
   "cell_type": "code",
   "execution_count": null,
   "id": "4e66c0f2",
   "metadata": {},
   "outputs": [],
   "source": [
    "file.close()"
   ]
  },
  {
   "cell_type": "code",
   "execution_count": null,
   "id": "51682b96",
   "metadata": {},
   "outputs": [],
   "source": []
  },
  {
   "cell_type": "code",
   "execution_count": null,
   "id": "0382ca4b",
   "metadata": {},
   "outputs": [],
   "source": []
  }
 ],
 "metadata": {
  "jupytext": {
   "cell_metadata_filter": "-all",
   "main_language": "python",
   "notebook_metadata_filter": "-all"
  },
  "kernelspec": {
   "display_name": "Python 3",
   "language": "python",
   "name": "python3"
  },
  "language_info": {
   "codemirror_mode": {
    "name": "ipython",
    "version": 3
   },
   "file_extension": ".py",
   "mimetype": "text/x-python",
   "name": "python",
   "nbconvert_exporter": "python",
   "pygments_lexer": "ipython3",
   "version": "3.8.3"
  }
 },
 "nbformat": 4,
 "nbformat_minor": 5
}
