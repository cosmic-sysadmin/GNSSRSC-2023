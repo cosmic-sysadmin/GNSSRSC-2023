{
 "cells": [
  {
   "cell_type": "code",
   "execution_count": null,
   "id": "8d94b31a",
   "metadata": {},
   "outputs": [],
   "source": [
    "import netCDF4\n",
    "from netCDF4 import Dataset as NCF\n",
    "import numpy as np"
   ]
  },
  {
   "cell_type": "code",
   "execution_count": null,
   "id": "8762c8ab",
   "metadata": {},
   "outputs": [],
   "source": [
    "dataDir = \"./Data/\""
   ]
  },
  {
   "cell_type": "code",
   "execution_count": null,
   "id": "a42524e5",
   "metadata": {},
   "outputs": [],
   "source": [
    "fName = \"podTc2_C2E2.2021.020.17.14.0027.R18.01_0001.0001_nc\"\n",
    "tecFile = dataDir + fName"
   ]
  },
  {
   "cell_type": "code",
   "execution_count": null,
   "id": "f8f4c175",
   "metadata": {},
   "outputs": [],
   "source": [
    "# Filename\n",
    "fileType = fName[0:6]\n",
    "const = fName[6:7]\n",
    "fmNum = fName[7:11]\n",
    "fYear = fName[12:16]\n",
    "fDoy = fName[17:20]\n",
    "fMin = fName[21:23]\n",
    "fSec = fName[24:26]\n",
    "timeStr = fName[21:26]\n",
    "leo = fName[32:35]"
   ]
  },
  {
   "cell_type": "code",
   "execution_count": null,
   "id": "bd199de2",
   "metadata": {},
   "outputs": [],
   "source": [
    "f = NCF(tecFile,'r')"
   ]
  },
  {
   "cell_type": "code",
   "execution_count": null,
   "id": "d06653ef",
   "metadata": {},
   "outputs": [],
   "source": [
    "for d in f.dimensions.items():\n",
    "    print(d)\n",
    "input"
   ]
  },
  {
   "cell_type": "code",
   "execution_count": null,
   "id": "332a5b9e",
   "metadata": {},
   "outputs": [],
   "source": [
    "print(f.variables.keys()) # get all variable names"
   ]
  },
  {
   "cell_type": "code",
   "execution_count": null,
   "id": "2fb7a477",
   "metadata": {},
   "outputs": [],
   "source": [
    "d = (f.__dict__['duration'])"
   ]
  },
  {
   "cell_type": "code",
   "execution_count": null,
   "id": "e40a3cad",
   "metadata": {},
   "outputs": [],
   "source": [
    "lm=int(1)"
   ]
  },
  {
   "cell_type": "code",
   "execution_count": null,
   "id": "ecbb8de0",
   "metadata": {},
   "outputs": [],
   "source": [
    "t = f.variables['time'] # time variable\n",
    "tec = f.variables['TEC'] # tec variable\n",
    "snr1 = f.variables['caL1_SNR'] # snr variable\n",
    "elev = f.variables['elevation'] # elevation variable\n",
    "s4i = f.variables['S4'] # S4 variable"
   ]
  },
  {
   "cell_type": "code",
   "execution_count": null,
   "id": "8c6e3038",
   "metadata": {},
   "outputs": [],
   "source": [
    "sz = int(d)"
   ]
  },
  {
   "cell_type": "code",
   "execution_count": null,
   "id": "4153b86a",
   "metadata": {},
   "outputs": [],
   "source": [
    "scale=int(sz-20)"
   ]
  },
  {
   "cell_type": "code",
   "execution_count": null,
   "id": "adf3acb7",
   "metadata": {},
   "outputs": [],
   "source": [
    "time = t[lm:sz] #+35019\n",
    "atec = tec[lm:sz]\n",
    "l1snr = snr1[lm:sz]\n",
    "l2snr = snr1[lm:sz]\n",
    "elangl = elev[lm:sz]\n",
    "scint = s4i[lm:sz]"
   ]
  },
  {
   "cell_type": "code",
   "execution_count": null,
   "id": "cc9cc9c9",
   "metadata": {},
   "outputs": [],
   "source": [
    "f.close()"
   ]
  },
  {
   "cell_type": "code",
   "execution_count": null,
   "id": "f66eb463",
   "metadata": {},
   "outputs": [],
   "source": [
    "tectxt = dataDir + fileType + \".\" + fmNum +\".\"+ leo +\".\" + fYear + \".\" + fDoy + \".\" + fMin +\".\"+ fSec +\".txt\""
   ]
  },
  {
   "cell_type": "code",
   "execution_count": null,
   "id": "109dee04",
   "metadata": {},
   "outputs": [],
   "source": [
    "f1 = open(tectxt, 'w')\n",
    "for i in range(lm,scale):\n",
    "    print((time[i] ), (\" \"), round((atec[i] ),3), (\" \"), round((elangl[i] ),3), (\" \"), round((l1snr[i] ),3), (\" \"), (scint[i] ), file=f1)\n",
    "f1.close()"
   ]
  },
  {
   "cell_type": "code",
   "execution_count": null,
   "id": "16792326",
   "metadata": {},
   "outputs": [],
   "source": []
  }
 ],
 "metadata": {
  "jupytext": {
   "cell_metadata_filter": "-all",
   "main_language": "python",
   "notebook_metadata_filter": "-all"
  },
  "kernelspec": {
   "display_name": "Python 3",
   "language": "python",
   "name": "python3"
  },
  "language_info": {
   "codemirror_mode": {
    "name": "ipython",
    "version": 3
   },
   "file_extension": ".py",
   "mimetype": "text/x-python",
   "name": "python",
   "nbconvert_exporter": "python",
   "pygments_lexer": "ipython3",
   "version": "3.8.3"
  }
 },
 "nbformat": 4,
 "nbformat_minor": 5
}
